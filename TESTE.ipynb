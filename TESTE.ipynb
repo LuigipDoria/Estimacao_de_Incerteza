{
 "cells": [
  {
   "cell_type": "code",
   "execution_count": 1,
   "id": "851acaf5-aa48-4284-926f-2b7a4d52a8aa",
   "metadata": {},
   "outputs": [
    {
     "name": "stdout",
     "output_type": "stream",
     "text": [
      "cuda\n"
     ]
    }
   ],
   "source": [
    "# LIBRARYs\n",
    "#import numpy as np\n",
    "import torch\n",
    "import torchvision\n",
    "import torchvision.transforms as transforms\n",
    "import torch.nn as nn\n",
    "import torch.nn.functional as F\n",
    "import torch.backends.cudnn as cudnn\n",
    "import torch.optim as optim\n",
    "import os\n",
    "import argparse\n",
    "import itertools\n",
    "from sklearn.metrics import roc_curve as ROC\n",
    "\n",
    "from sklearn.metrics import auc,brier_score_loss\n",
    "from torch.optim import Adam\n",
    "\n",
    "from Utils.loading import *\n",
    "from Utils.treino import *\n",
    "from Utils.init_redes import *\n",
    "from Utils.KD import *\n",
    "from Utils.ensemble import *\n",
    "from Utils.redes import *\n",
    "from Utils.data_set import *\n",
    "from Utils.cobertura import *\n",
    "from Utils.graficos import *"
   ]
  },
  {
   "cell_type": "code",
   "execution_count": 3,
   "id": "990c9404-cf19-45a5-bd6a-ae13a4ee1a83",
   "metadata": {},
   "outputs": [
    {
     "name": "stdout",
     "output_type": "stream",
     "text": [
      "Files already downloaded and verified\n",
      "Files already downloaded and verified\n"
     ]
    }
   ],
   "source": [
    "data_set = \"Cifar100\"\n",
    "\n",
    "if data_set == \"Cifar10\":\n",
    "    transform_train, transform_test, batch_size, trainset, trainloader, testset, testloader, classes = cifar10()\n",
    "elif data_set == \"Cifar100\":\n",
    "    transform_train, transform_test, batch_size, trainset, trainloader, testset, testloader= cifar100()"
   ]
  },
  {
   "cell_type": "code",
   "execution_count": 5,
   "id": "ae3c4af1-51e4-4ec8-ad82-14533dd0e6eb",
   "metadata": {},
   "outputs": [
    {
     "name": "stdout",
     "output_type": "stream",
     "text": [
      "78.34\n"
     ]
    }
   ],
   "source": [
    "num_cabeca = 15\n",
    "hydra = init_rede(\"Resnet100_hydra\", num_cabeca=num_cabeca)\n",
    "\n",
    "hydra = load_hydra(hydra, data_set,n_cabecas=num_cabeca)\n",
    "\n",
    "print(testa_acuracia(hydra, testloader))"
   ]
  },
  {
   "cell_type": "code",
   "execution_count": 1,
   "id": "910a3048-2f24-432c-a921-460efd64018c",
   "metadata": {},
   "outputs": [
    {
     "data": {
      "text/plain": [
       "['/usr/share/fonts/truetype/dejavu/DejaVuSans-Bold.ttf',\n",
       " '/usr/share/fonts/truetype/dejavu/DejaVuSerif-Bold.ttf',\n",
       " '/usr/share/fonts/truetype/dejavu/DejaVuSans.ttf',\n",
       " '/usr/share/fonts/truetype/dejavu/DejaVuSerif.ttf',\n",
       " '/usr/share/fonts/truetype/dejavu/DejaVuSansMono.ttf',\n",
       " '/usr/share/fonts/truetype/dejavu/DejaVuSansMono-Bold.ttf']"
      ]
     },
     "execution_count": 1,
     "metadata": {},
     "output_type": "execute_result"
    }
   ],
   "source": [
    "import matplotlib.font_manager as font_manager\n",
    "\n",
    "font_manager.findSystemFonts(fontpaths=None, fontext='ttf')"
   ]
  },
  {
   "cell_type": "code",
   "execution_count": null,
   "id": "97ee5937-b058-40a6-ae98-3df046e17108",
   "metadata": {},
   "outputs": [],
   "source": []
  }
 ],
 "metadata": {
  "kernelspec": {
   "display_name": "Python 3 (ipykernel)",
   "language": "python",
   "name": "python3"
  },
  "language_info": {
   "codemirror_mode": {
    "name": "ipython",
    "version": 3
   },
   "file_extension": ".py",
   "mimetype": "text/x-python",
   "name": "python",
   "nbconvert_exporter": "python",
   "pygments_lexer": "ipython3",
   "version": "3.10.8"
  }
 },
 "nbformat": 4,
 "nbformat_minor": 5
}
