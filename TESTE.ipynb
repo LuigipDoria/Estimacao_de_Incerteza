{
 "cells": [
  {
   "cell_type": "code",
   "execution_count": 1,
   "id": "851acaf5-aa48-4284-926f-2b7a4d52a8aa",
   "metadata": {},
   "outputs": [
    {
     "name": "stdout",
     "output_type": "stream",
     "text": [
      "cuda\n"
     ]
    }
   ],
   "source": [
    "# LIBRARYs\n",
    "#import numpy as np\n",
    "import torch\n",
    "import torchvision\n",
    "import torchvision.transforms as transforms\n",
    "import torch.nn as nn\n",
    "import torch.nn.functional as F\n",
    "import torch.backends.cudnn as cudnn\n",
    "import torch.optim as optim\n",
    "import os\n",
    "import argparse\n",
    "import itertools\n",
    "from sklearn.metrics import roc_curve as ROC\n",
    "\n",
    "from sklearn.metrics import auc,brier_score_loss\n",
    "from torch.optim import Adam\n",
    "\n",
    "from Utils.loading import *\n",
    "from Utils.treino import *\n",
    "from Utils.init_redes import *\n",
    "from Utils.KD import *\n",
    "from Utils.ensemble import *\n",
    "from Utils.redes import *\n",
    "from Utils.data_set import *\n",
    "from Utils.cobertura import *\n",
    "from Utils.graficos import *"
   ]
  },
  {
   "cell_type": "code",
   "execution_count": 2,
   "id": "990c9404-cf19-45a5-bd6a-ae13a4ee1a83",
   "metadata": {},
   "outputs": [
    {
     "name": "stdout",
     "output_type": "stream",
     "text": [
      "Files already downloaded and verified\n",
      "Files already downloaded and verified\n"
     ]
    }
   ],
   "source": [
    "data_set = \"Cifar100\"\n",
    "\n",
    "if data_set == \"Cifar10\":\n",
    "    transform_train, transform_test, batch_size, trainset, trainloader, testset, testloader, classes = cifar10()\n",
    "elif data_set == \"Cifar100\":\n",
    "    transform_train, transform_test, batch_size, trainset, trainloader, testset, testloader= cifar100()"
   ]
  },
  {
   "cell_type": "code",
   "execution_count": 3,
   "id": "ae3c4af1-51e4-4ec8-ad82-14533dd0e6eb",
   "metadata": {},
   "outputs": [],
   "source": [
    "def load_resnet18_v2(n_rede, data_set):\n",
    "    # APENAS CARREGA AS REDES DO CIFAR 10 OU CIFAR 100\n",
    "    if data_set == \"Cifar10\":\n",
    "        for i in range(n_rede):\n",
    "            if i == 0 and n_redes == (n_rede-1):\n",
    "                aux = \"\"\n",
    "                net  = torch.load('./Data_sets/Cifar10/net{}.pth'.format(aux))\n",
    "                break\n",
    "            else:\n",
    "                net  = torch.load('./Data_sets/Cifar10/net{}.pth'.format(i))\n",
    "                break\n",
    "                \n",
    "    elif data_set == \"Cifar100\": \n",
    "        for dirname, _, filenames in os.walk('./Data_sets/Cifar100'):\n",
    "            for i, filename in enumerate(filenames):\n",
    "                if i == n_rede-1:\n",
    "                    net = torch.load(\"./Data_sets/Cifar100/{}\".format(filename)).module.to(\"cuda\")\n",
    "                    break\n",
    "                \n",
    "    return net"
   ]
  },
  {
   "cell_type": "code",
   "execution_count": 8,
   "id": "97ee5937-b058-40a6-ae98-3df046e17108",
   "metadata": {},
   "outputs": [
    {
     "name": "stdout",
     "output_type": "stream",
     "text": [
      "76.03\n",
      "75.82\n",
      "76.03\n",
      "76.19\n",
      "75.92\n",
      "75.97\n",
      "76.51\n",
      "75.87\n",
      "76.04\n",
      "76.14\n",
      "76.15\n",
      "76.24\n",
      "76.24\n",
      "76.27\n",
      "77.35\n"
     ]
    }
   ],
   "source": [
    "for i in range(1,16):\n",
    "    model = load_resnet18_v2(i, data_set)\n",
    "    acc = testa_acuracia(model, testloader)\n",
    "    print(acc)"
   ]
  },
  {
   "cell_type": "code",
   "execution_count": 9,
   "id": "876909fa-093c-4654-850e-476004baf7f9",
   "metadata": {},
   "outputs": [
    {
     "data": {
      "text/plain": [
       "1.0"
      ]
     },
     "execution_count": 9,
     "metadata": {},
     "output_type": "execute_result"
    }
   ],
   "source": [
    "valor = np.arange(0.01, 2.001, 0.01)\n",
    "\n",
    "valor[99]"
   ]
  },
  {
   "cell_type": "code",
   "execution_count": null,
   "id": "07b60fa3-3912-4e54-a7d0-cec57c72a419",
   "metadata": {},
   "outputs": [],
   "source": []
  }
 ],
 "metadata": {
  "kernelspec": {
   "display_name": "Python 3 (ipykernel)",
   "language": "python",
   "name": "python3"
  },
  "language_info": {
   "codemirror_mode": {
    "name": "ipython",
    "version": 3
   },
   "file_extension": ".py",
   "mimetype": "text/x-python",
   "name": "python",
   "nbconvert_exporter": "python",
   "pygments_lexer": "ipython3",
   "version": "3.10.8"
  }
 },
 "nbformat": 4,
 "nbformat_minor": 5
}
