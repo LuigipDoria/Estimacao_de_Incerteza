{
 "cells": [
  {
   "cell_type": "code",
   "execution_count": 1,
   "id": "c31048a3-ecc4-4061-82ab-6cf917ea2f34",
   "metadata": {},
   "outputs": [
    {
     "name": "stdout",
     "output_type": "stream",
     "text": [
      "cuda\n"
     ]
    }
   ],
   "source": [
    "import torch\n",
    "import torchvision\n",
    "import torchvision.transforms as transforms\n",
    "import torch.nn as nn\n",
    "import torch.nn.functional as F\n",
    "import torch.backends.cudnn as cudnn\n",
    "import torch.optim as optim\n",
    "import os\n",
    "import argparse\n",
    "from sklearn.metrics import roc_curve as ROC\n",
    "from sklearn.metrics import auc,brier_score_loss\n",
    "\n",
    "import matplotlib\n",
    "import matplotlib.pyplot as plt\n",
    "\n",
    "import pandas as pd\n",
    "import dataframe_image as dfi\n",
    "\n",
    "from Utils.loading import *\n",
    "from Utils.treino import *\n",
    "from Utils.init_redes import *\n",
    "from Utils.KD import *\n",
    "from Utils.ensemble import *\n",
    "from Utils.redes import *\n",
    "from Utils.data_set import *\n",
    "from Utils.cobertura import *\n",
    "from Utils.graficos import *"
   ]
  },
  {
   "cell_type": "code",
   "execution_count": 2,
   "id": "803cf15c-7c4b-4ba7-8681-10b120189fa6",
   "metadata": {},
   "outputs": [
    {
     "name": "stdout",
     "output_type": "stream",
     "text": [
      "cuda\n"
     ]
    }
   ],
   "source": [
    "if torch.cuda.is_available():\n",
    "    device = 'cuda'  \n",
    "else:\n",
    "    device = 'cpu'\n",
    "print(device)"
   ]
  },
  {
   "cell_type": "markdown",
   "id": "84eb4750-b3d4-48d4-a033-1d08d12b9aa5",
   "metadata": {},
   "source": [
    "# Carregando o data set"
   ]
  },
  {
   "cell_type": "code",
   "execution_count": 3,
   "id": "17b07de5-9b7a-4b5d-93df-c7ab7e753a19",
   "metadata": {},
   "outputs": [
    {
     "name": "stdout",
     "output_type": "stream",
     "text": [
      "Files already downloaded and verified\n",
      "Files already downloaded and verified\n"
     ]
    }
   ],
   "source": [
    "data_set = \"Cifar100\"\n",
    "\n",
    "if data_set == \"Cifar10\":\n",
    "    transform_train, transform_test, batch_size, trainset, trainloader, testset, testloader, classes = cifar10()\n",
    "elif data_set == \"Cifar100\":\n",
    "    transform_train, transform_test, batch_size, trainset, trainloader, testset, testloader= cifar100()"
   ]
  },
  {
   "cell_type": "markdown",
   "id": "c400181b-4ebc-4e5e-a561-7cb355c496ba",
   "metadata": {},
   "source": [
    "# Cerregando as redes"
   ]
  },
  {
   "cell_type": "code",
   "execution_count": 4,
   "id": "195d9c00-498b-4c86-b9ea-33ae64b43d2d",
   "metadata": {},
   "outputs": [],
   "source": [
    "n_rede = 3\n",
    "models = load_resnet18_v2(n_rede, data_set)"
   ]
  },
  {
   "cell_type": "markdown",
   "id": "24616620-436a-45de-a4bb-c286c0aa39d1",
   "metadata": {},
   "source": [
    "# VENDO A MELHOR TEMPERATURA PARA CADA MODELO"
   ]
  },
  {
   "cell_type": "code",
   "execution_count": 5,
   "id": "3abec82c-945f-445c-9158-b93f156b9582",
   "metadata": {},
   "outputs": [
    {
     "name": "stdout",
     "output_type": "stream",
     "text": [
      "Rede numero 1\n",
      "Rede numero 2\n",
      "Rede numero 3\n",
      "Rede numero 4\n",
      "Rede numero 5\n",
      "Rede numero 6\n",
      "Rede numero 7\n",
      "Rede numero 8\n",
      "Rede numero 9\n",
      "Rede numero 10\n",
      "Rede numero 11\n",
      "Rede numero 12\n",
      "Rede numero 13\n",
      "Rede numero 14\n",
      "Rede numero 15\n"
     ]
    }
   ],
   "source": [
    "best_acc_list = list()\n",
    "best_rc_list = list()\n",
    "best_auc_list = list()\n",
    "best_auroc_list = list()\n",
    "best_T_list = list()\n",
    "\n",
    "base_acc_list = list()\n",
    "base_rc_list = list()\n",
    "base_auc_list = list()\n",
    "base_auroc_list = list()\n",
    "\n",
    "for i in range(1,16):\n",
    "    print(\"Rede numero {}\".format(i))\n",
    "    model = load_resnet18_v2(i, data_set)    \n",
    "    outputs = torch.tensor([]).to(\"cuda\")\n",
    "    labels_cat = torch.tensor([])\n",
    "\n",
    "    correct_list = list()\n",
    "    covarege_list = list()\n",
    "    auc_list = list()\n",
    "    auroc_list = list()\n",
    "\n",
    "    # since we're not training, we don't need to calculate the gradients for our outputs\n",
    "    with torch.no_grad():\n",
    "        for i, data in enumerate(testloader, 0):\n",
    "            images, labels = data\n",
    "            outputs_0 = model(images.to(\"cuda\"))\n",
    "            outputs = torch.cat((outputs,outputs_0),dim=0)\n",
    "            labels_cat = torch.cat((labels_cat,labels),dim=0) # Junta as respostas\n",
    "\n",
    "    valores = np.arange(0.01, 2.001, 0.01)\n",
    "\n",
    "    for valor in valores:\n",
    "        T = valor\n",
    "\n",
    "        outputs1 = outputs/T\n",
    "        outputs_softmax = torch.nn.functional.softmax(outputs1, dim=-1)\n",
    "\n",
    "        uncs, _, _, predict = calculate_predicted(outputs_softmax)\n",
    "        correct_list.append((1-calculate_correct(predict, labels_cat))*100)\n",
    "        aurc_aux, rc_aux = AURC(predict, labels_cat.to(\"cuda\"), uncs, return_curve=True)\n",
    "        covarege_list.append(rc_aux)\n",
    "        auc_list.append(aurc_aux)\n",
    "        auroc_list.append(AUROC(predict, labels_cat.to(\"cuda\"), -uncs))\n",
    "\n",
    "    best_auc_index = np.argmin(auc_list)\n",
    "    best_acc_list.append(correct_list[best_auc_index])\n",
    "    best_rc_list.append(covarege_list[best_auc_index])\n",
    "    best_auc_list.append(auc_list[best_auc_index])\n",
    "    best_auroc_list.append(auroc_list[best_auc_index])\n",
    "    best_T_list.append(valores[best_auc_index])\n",
    "    \n",
    "    \n",
    "    base_acc_list.append(correct_list[99])\n",
    "    base_rc_list.append(covarege_list[99])\n",
    "    base_auc_list.append(auc_list[99])\n",
    "    base_auroc_list.append(auroc_list[99])"
   ]
  },
  {
   "cell_type": "code",
   "execution_count": 16,
   "id": "625fda50-f9f3-4dae-9f36-967446467c09",
   "metadata": {},
   "outputs": [
    {
     "name": "stdout",
     "output_type": "stream",
     "text": [
      "Rede numero 1\n",
      "Melhor T:   0.67\n",
      "Acuracia normal: 76.03 || Acuracia melhor T: 76.03\n",
      "AUC normal:   0.06646  || AUC melhor T:      0.06592\n",
      "AUROC normal: 0.87364  || AUROC melhor T:    0.87446\n",
      "\n",
      "Rede numero 2\n",
      "Melhor T:   0.61\n",
      "Acuracia normal: 75.82 || Acuracia melhor T: 75.82\n",
      "AUC normal:   0.06657  || AUC melhor T:      0.06633\n",
      "AUROC normal: 0.87631  || AUROC melhor T:    0.87535\n",
      "\n",
      "Rede numero 3\n",
      "Melhor T:   0.85\n",
      "Acuracia normal: 76.03 || Acuracia melhor T: 76.03\n",
      "AUC normal:   0.06785  || AUC melhor T:      0.06760\n",
      "AUROC normal: 0.86866  || AUROC melhor T:    0.86882\n",
      "\n",
      "Rede numero 4\n",
      "Melhor T:   0.78\n",
      "Acuracia normal: 76.19 || Acuracia melhor T: 76.19\n",
      "AUC normal:   0.06593  || AUC melhor T:      0.06546\n",
      "AUROC normal: 0.87217  || AUROC melhor T:    0.87309\n",
      "\n",
      "Rede numero 5\n",
      "Melhor T:   0.88\n",
      "Acuracia normal: 75.92 || Acuracia melhor T: 75.92\n",
      "AUC normal:   0.06553  || AUC melhor T:      0.06526\n",
      "AUROC normal: 0.87732  || AUROC melhor T:    0.87763\n",
      "\n",
      "Rede numero 6\n",
      "Melhor T:   0.84\n",
      "Acuracia normal: 75.97 || Acuracia melhor T: 75.97\n",
      "AUC normal:   0.06630  || AUC melhor T:      0.06586\n",
      "AUROC normal: 0.87580  || AUROC melhor T:    0.87620\n",
      "\n",
      "Rede numero 7\n",
      "Melhor T:   0.83\n",
      "Acuracia normal: 76.51 || Acuracia melhor T: 76.51\n",
      "AUC normal:   0.06382  || AUC melhor T:      0.06350\n",
      "AUROC normal: 0.87494  || AUROC melhor T:    0.87515\n",
      "\n",
      "Rede numero 8\n",
      "Melhor T:   0.66\n",
      "Acuracia normal: 75.87 || Acuracia melhor T: 75.87\n",
      "AUC normal:   0.06638  || AUC melhor T:      0.06603\n",
      "AUROC normal: 0.87557  || AUROC melhor T:    0.87529\n",
      "\n",
      "Rede numero 9\n",
      "Melhor T:   0.79\n",
      "Acuracia normal: 76.04 || Acuracia melhor T: 76.04\n",
      "AUC normal:   0.06689  || AUC melhor T:      0.06649\n",
      "AUROC normal: 0.87165  || AUROC melhor T:    0.87205\n",
      "\n",
      "Rede numero 10\n",
      "Melhor T:   0.83\n",
      "Acuracia normal: 76.14 || Acuracia melhor T: 76.14\n",
      "AUC normal:   0.06535  || AUC melhor T:      0.06503\n",
      "AUROC normal: 0.87391  || AUROC melhor T:    0.87439\n",
      "\n",
      "Rede numero 11\n",
      "Melhor T:   0.81\n",
      "Acuracia normal: 76.15 || Acuracia melhor T: 76.15\n",
      "AUC normal:   0.06463  || AUC melhor T:      0.06411\n",
      "AUROC normal: 0.87829  || AUROC melhor T:    0.87885\n",
      "\n",
      "Rede numero 12\n",
      "Melhor T:   0.77\n",
      "Acuracia normal: 76.24 || Acuracia melhor T: 76.24\n",
      "AUC normal:   0.06513  || AUC melhor T:      0.06466\n",
      "AUROC normal: 0.87496  || AUROC melhor T:    0.87534\n",
      "\n",
      "Rede numero 13\n",
      "Melhor T:   0.73\n",
      "Acuracia normal: 76.24 || Acuracia melhor T: 76.24\n",
      "AUC normal:   0.06655  || AUC melhor T:      0.06633\n",
      "AUROC normal: 0.86878  || AUROC melhor T:    0.86888\n",
      "\n",
      "Rede numero 14\n",
      "Melhor T:   0.68\n",
      "Acuracia normal: 76.27 || Acuracia melhor T: 76.27\n",
      "AUC normal:   0.06559  || AUC melhor T:      0.06517\n",
      "AUROC normal: 0.87458  || AUROC melhor T:    0.87480\n",
      "\n",
      "Rede numero 15\n",
      "Melhor T:   0.80\n",
      "Acuracia normal: 77.35 || Acuracia melhor T: 77.35\n",
      "AUC normal:   0.06173  || AUC melhor T:      0.06120\n",
      "AUROC normal: 0.87192  || AUROC melhor T:    0.87265\n",
      "\n"
     ]
    }
   ],
   "source": [
    "for i in range(15):\n",
    "    print(\"Rede numero {}\".format(i+1))\n",
    "    print(\"Melhor T:   {:.2f}\".format(best_T_list[i]))\n",
    "    print(\"Acuracia normal: {:.2f} || Acuracia melhor T: {:.2f}\".format(base_acc_list[i],best_acc_list[i]))\n",
    "    print(\"AUC normal:   {:.5f}  || AUC melhor T:      {:.5f}\".format(base_auc_list[i],best_auc_list[i]))\n",
    "    print(\"AUROC normal: {:.5f}  || AUROC melhor T:    {:.5f}\".format(base_auroc_list[i],best_auroc_list[i]))\n",
    "    print()"
   ]
  },
  {
   "cell_type": "markdown",
   "id": "2a3dbb19-0e83-4214-b143-f06b3037b6d7",
   "metadata": {},
   "source": [
    "# 2 REDES"
   ]
  },
  {
   "cell_type": "code",
   "execution_count": 37,
   "id": "2a86d8dc-2bee-4059-b86b-5876568985e6",
   "metadata": {},
   "outputs": [],
   "source": [
    "n_redes = 2\n",
    "\n",
    "models = load_cifar100(n_redes)\n",
    "\n",
    "# ENEMBLE T IGUAIS\n",
    "\n",
    "correct_list = list()\n",
    "covarege_list = list()\n",
    "auc_list = list()\n",
    "auroc_list = list()\n",
    "\n",
    "outputs = torch.tensor([]).to(\"cuda\")\n",
    "labels_cat = torch.tensor([])\n",
    "\n",
    "# since we're not training, we don't need to calculate the gradients for our outputs\n",
    "with torch.no_grad():\n",
    "    for i, data in enumerate(testloader, 0):\n",
    "        images, labels = data\n",
    "\n",
    "        outputs_0 = caculate_outputs(models[0:n_redes],images.to(\"cuda\"))\n",
    "        outputs_0 = torch.stack(tuple(outputs_0),dim=0)\n",
    "        outputs = torch.cat((outputs,outputs_0),dim=1)\n",
    "        labels_cat = torch.cat((labels_cat,labels),dim=0) # Junta as respostas\n",
    "\n",
    "T1 = 0.67\n",
    "T2 = 0.61\n",
    "\n",
    "output0 = outputs[0]/T1\n",
    "output1 = outputs[1]/T2\n",
    "\n",
    "outputs_stack = torch.stack((output0,output1),dim=0)\n",
    "\n",
    "outputs_softmax = torch.nn.functional.softmax(outputs_stack, dim=-1)\n",
    "outputs_mean = torch.mean(outputs_softmax, dim=0)\n",
    "\n",
    "uncs, _, _, predict = calculate_predicted(outputs_mean)\n",
    "acc = (1-calculate_correct(predict, labels_cat))*100\n",
    "aurc, rc = AURC(predict, labels_cat.to(\"cuda\"), uncs, return_curve=True)\n",
    "auroc = AUROC(predict, labels_cat.to(\"cuda\"), -uncs)\n",
    "\n",
    "\n",
    "outputs_mean2 = torch.mean(outputs_stack, dim=0)\n",
    "outputs_softmax2 = torch.nn.functional.softmax(outputs_mean2, dim=-1)\n",
    "\n",
    "uncs2, _, _, predict2 = calculate_predicted(outputs_softmax2)\n",
    "acc2 = (1-calculate_correct(predict2, labels_cat))*100\n",
    "aurc2, rc2 = AURC(predict2, labels_cat.to(\"cuda\"), uncs2, return_curve=True)\n",
    "auroc2 = AUROC(predict2, labels_cat.to(\"cuda\"), -uncs2)"
   ]
  },
  {
   "cell_type": "code",
   "execution_count": 41,
   "id": "2af790af-a052-4d98-a662-e40d10adb6b9",
   "metadata": {},
   "outputs": [
    {
     "name": "stdout",
     "output_type": "stream",
     "text": [
      "SOFTMEAN\n",
      "NORMAL                  -> Acuracia: 77.87 || AUC: 0.05758 || AUROC: 0.87876\n",
      "MELHOR T PARA CADA REDE -> Acuracia: 77.74 || AUC: 0.05782 || AUROC: 0.87893\n",
      "MELHORES T PRO ENSEMBLE -> Acuracia: 77.91 || AUC: 0.05738 || AUROC: 0.87836\n",
      "\n",
      "MEANSOFT\n",
      "NORMAL FALTA FAZER      -> Acuracia: 78.03 || AUC: 0.05659 || AUROC: 0.88036\n",
      "MELHOR T PARA CADA REDE -> Acuracia: 78.07 || AUC: 0.05613 || AUROC: 0.88057\n",
      "MELHORES T PRO ENSEMBLE -> Acuracia: 77.93 || AUC: 0.05596 || AUROC: 0.88271\n"
     ]
    }
   ],
   "source": [
    "print(\"SOFTMEAN\")\n",
    "print(\"NORMAL                  -> Acuracia: {:.2f} || AUC: {:.5f} || AUROC: {:.5f}\".format(77.87, 0.05758, 0.87876))\n",
    "print(\"MELHOR T PARA CADA REDE -> Acuracia: {:.2f} || AUC: {:.5f} || AUROC: {:.5f}\".format(acc, aurc, auroc))\n",
    "print(\"MELHORES T PRO ENSEMBLE -> Acuracia: {:.2f} || AUC: {:.5f} || AUROC: {:.5f}\".format(77.91, 0.05738, 0.87836))\n",
    "print()\n",
    "print(\"MEANSOFT\")\n",
    "print(\"NORMAL FALTA FAZER      -> Acuracia: {:.2f} || AUC: {:.5f} || AUROC: {:.5f}\".format(78.03, 0.05659, 0.88036))\n",
    "print(\"MELHOR T PARA CADA REDE -> Acuracia: {:.2f} || AUC: {:.5f} || AUROC: {:.5f}\".format(acc2, aurc2, auroc2))\n",
    "print(\"MELHORES T PRO ENSEMBLE -> Acuracia: {:.2f} || AUC: {:.5f} || AUROC: {:.5f}\".format(77.93, 0.05596, 0.88271))"
   ]
  },
  {
   "cell_type": "markdown",
   "id": "e3744c08-f057-4188-822e-a11d9623fc3f",
   "metadata": {},
   "source": [
    "# 3 REDES"
   ]
  },
  {
   "cell_type": "code",
   "execution_count": 30,
   "id": "a005c45b-8ade-48bb-9869-2f23115cfa2a",
   "metadata": {},
   "outputs": [],
   "source": [
    "n_redes = 3\n",
    "\n",
    "models = load_cifar100(n_redes)\n",
    "\n",
    "# ENEMBLE T IGUAIS\n",
    "\n",
    "correct_list = list()\n",
    "covarege_list = list()\n",
    "auc_list = list()\n",
    "auroc_list = list()\n",
    "\n",
    "outputs = torch.tensor([]).to(\"cuda\")\n",
    "labels_cat = torch.tensor([])\n",
    "\n",
    "# since we're not training, we don't need to calculate the gradients for our outputs\n",
    "with torch.no_grad():\n",
    "    for i, data in enumerate(testloader, 0):\n",
    "        images, labels = data\n",
    "\n",
    "        outputs_0 = caculate_outputs(models[0:n_redes],images.to(\"cuda\"))\n",
    "        outputs_0 = torch.stack(tuple(outputs_0),dim=0)\n",
    "        outputs = torch.cat((outputs,outputs_0),dim=1)\n",
    "        labels_cat = torch.cat((labels_cat,labels),dim=0) # Junta as respostas\n",
    "\n",
    "T1 = 0.67\n",
    "T2 = 0.61\n",
    "T3 = 0.85\n",
    "\n",
    "output0 = outputs[0]/T1\n",
    "output1 = outputs[1]/T2\n",
    "output2 = outputs[2]/T3\n",
    "\n",
    "outputs_stack = torch.stack((output0,output1,output2),dim=0)\n",
    "\n",
    "outputs_softmax = torch.nn.functional.softmax(outputs_stack, dim=-1)\n",
    "outputs_mean = torch.mean(outputs_softmax, dim=0)\n",
    "\n",
    "uncs, _, _, predict = calculate_predicted(outputs_mean)\n",
    "acc = (1-calculate_correct(predict, labels_cat))*100\n",
    "aurc, rc = AURC(predict, labels_cat.to(\"cuda\"), uncs, return_curve=True)\n",
    "auroc = AUROC(predict, labels_cat.to(\"cuda\"), -uncs)\n",
    "\n",
    "\n",
    "outputs_mean2 = torch.mean(outputs_stack, dim=0)\n",
    "outputs_softmax2 = torch.nn.functional.softmax(outputs_mean2, dim=-1)\n",
    "\n",
    "uncs2, _, _, predict2 = calculate_predicted(outputs_softmax2)\n",
    "acc2 = (1-calculate_correct(predict2, labels_cat))*100\n",
    "aurc2, rc2 = AURC(predict2, labels_cat.to(\"cuda\"), uncs2, return_curve=True)\n",
    "auroc2 = AUROC(predict2, labels_cat.to(\"cuda\"), -uncs2)"
   ]
  },
  {
   "cell_type": "code",
   "execution_count": 40,
   "id": "503b8c03-a824-46dc-9c59-1418aa8e53d4",
   "metadata": {},
   "outputs": [
    {
     "name": "stdout",
     "output_type": "stream",
     "text": [
      "SOFTMEAN\n",
      "NORMAL                  -> Acuracia: 78.63 || AUC: 0.05433 || AUROC: 0.88085\n",
      "MELHOR T PARA CADA REDE -> Acuracia: 77.74 || AUC: 0.05782 || AUROC: 0.87893\n",
      "MELHORES T PRO ENSEMBLE -> Acuracia: 78.63 || AUC: 0.05406 || AUROC: 0.88124\n",
      "T1: 0.91 || T2: 0.91 || T3: 0.95\n",
      "\n",
      "MEANSOFT\n",
      "NORMAL                  -> Acuracia: 78.63 || AUC: 0.05432 || AUROC: 0.88094\n",
      "MELHOR T PARA CADA REDE -> Acuracia: 78.07 || AUC: 0.05613 || AUROC: 0.88057\n",
      "MELHORES T PRO ENSEMBLE -> Acuracia: 78.95 || AUC: 0.05282 || AUROC: 0.88007\n",
      "T1: 1.4 || T2: 1.4 || T3: 0.66\n"
     ]
    }
   ],
   "source": [
    "print(\"SOFTMEAN\")\n",
    "print(\"NORMAL                  -> Acuracia: {:.2f} || AUC: {:.5f} || AUROC: {:.5f}\".format(78.63, 0.05433, 0.88085))\n",
    "print(\"MELHOR T PARA CADA REDE -> Acuracia: {:.2f} || AUC: {:.5f} || AUROC: {:.5f}\".format(acc, aurc, auroc))\n",
    "print(\"MELHORES T PRO ENSEMBLE -> Acuracia: {:.2f} || AUC: {:.5f} || AUROC: {:.5f}\".format(78.63, 0.05406, 0.881241))\n",
    "print(\"T1: {} || T2: {} || T3: {}\".format(0.91, 0.91, 0.95))\n",
    "print()\n",
    "print(\"MEANSOFT\")\n",
    "print(\"NORMAL                  -> Acuracia: {:.2f} || AUC: {:.5f} || AUROC: {:.5f}\".format(78.63, 0.05432, 0.88094))\n",
    "print(\"MELHOR T PARA CADA REDE -> Acuracia: {:.2f} || AUC: {:.5f} || AUROC: {:.5f}\".format(acc2, aurc2, auroc2))\n",
    "print(\"MELHORES T PRO ENSEMBLE -> Acuracia: {:.2f} || AUC: {:.5f} || AUROC: {:.5f}\".format(78.95, 0.05282, 0.88007))\n",
    "print(\"T1: {} || T2: {} || T3: {}\".format(1.4, 1.40, 0.66))"
   ]
  },
  {
   "cell_type": "code",
   "execution_count": null,
   "id": "ca31b4de-d11f-4e05-a307-787bdec4d0cf",
   "metadata": {},
   "outputs": [],
   "source": []
  }
 ],
 "metadata": {
  "kernelspec": {
   "display_name": "Python 3 (ipykernel)",
   "language": "python",
   "name": "python3"
  },
  "language_info": {
   "codemirror_mode": {
    "name": "ipython",
    "version": 3
   },
   "file_extension": ".py",
   "mimetype": "text/x-python",
   "name": "python",
   "nbconvert_exporter": "python",
   "pygments_lexer": "ipython3",
   "version": "3.10.8"
  }
 },
 "nbformat": 4,
 "nbformat_minor": 5
}
